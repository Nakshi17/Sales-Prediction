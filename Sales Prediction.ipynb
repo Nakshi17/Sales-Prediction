{
 "cells": [
  {
   "cell_type": "code",
   "execution_count": 9,
   "id": "634e2d59",
   "metadata": {},
   "outputs": [],
   "source": [
    "import pandas as pd\n",
    "import numpy as np\n",
    "import matplotlib.pyplot as plt\n",
    "import seaborn as sns\n",
    "from sklearn.model_selection import train_test_split\n",
    "from sklearn.linear_model import LinearRegression"
   ]
  },
  {
   "cell_type": "code",
   "execution_count": 10,
   "id": "ee74e2a5",
   "metadata": {},
   "outputs": [
    {
     "name": "stdout",
     "output_type": "stream",
     "text": [
      "   Unnamed: 0     TV  Radio  Newspaper  Sales\n",
      "0           1  230.1   37.8       69.2   22.1\n",
      "1           2   44.5   39.3       45.1   10.4\n",
      "2           3   17.2   45.9       69.3    9.3\n",
      "3           4  151.5   41.3       58.5   18.5\n",
      "4           5  180.8   10.8       58.4   12.9\n"
     ]
    }
   ],
   "source": [
    "data = pd.read_csv(\"Advertising.csv\")\n",
    "print(data.head())"
   ]
  },
  {
   "cell_type": "code",
   "execution_count": 11,
   "id": "91644269",
   "metadata": {},
   "outputs": [
    {
     "name": "stdout",
     "output_type": "stream",
     "text": [
      "Unnamed: 0    0\n",
      "TV            0\n",
      "Radio         0\n",
      "Newspaper     0\n",
      "Sales         0\n",
      "dtype: int64\n"
     ]
    }
   ],
   "source": [
    "print(data.isnull().sum())"
   ]
  },
  {
   "cell_type": "code",
   "execution_count": 15,
   "id": "d725a1a9",
   "metadata": {},
   "outputs": [
    {
     "name": "stderr",
     "output_type": "stream",
     "text": [
      "C:\\Users\\NAKSHI MILAN SHAH\\AppData\\Local\\Temp\\ipykernel_10796\\3748562119.py:1: MatplotlibDeprecationWarning: The seaborn styles shipped by Matplotlib are deprecated since 3.6, as they no longer correspond to the styles shipped by seaborn. However, they will remain available as 'seaborn-v0_8-<style>'. Alternatively, directly use the seaborn API instead.\n",
      "  plt.style.use('seaborn-whitegrid')\n"
     ]
    },
    {
     "data": {
      "image/png": "[encoded data removed]",
      "text/plain": [
       "<Figure size 800x600 with 2 Axes>"
      ]
     },
     "metadata": {},
     "output_type": "display_data"
    }
   ],
   "source": [
    "plt.style.use('seaborn-whitegrid')\n",
    "plt.figure(figsize=(8, 6))\n",
    "sns.heatmap(data.corr())\n",
    "plt.show()"
   ]
  },
  {
   "cell_type": "code",
   "execution_count": 6,
   "id": "b5a87e11",
   "metadata": {},
   "outputs": [
    {
     "name": "stdout",
     "output_type": "stream",
     "text": [
      "    Predicted Sales\n",
      "0         16.412277\n",
      "1         20.843193\n",
      "2         21.511869\n",
      "3         10.653100\n",
      "4         22.124058\n",
      "5         13.123835\n",
      "6         21.037489\n",
      "7          7.503854\n",
      "8         13.647870\n",
      "9         15.120409\n",
      "10         9.020556\n",
      "11         6.706666\n",
      "12        14.401551\n",
      "13         8.886090\n",
      "14         9.743533\n",
      "15        12.215520\n",
      "16         8.713709\n",
      "17        16.294145\n",
      "18        10.268023\n",
      "19        18.804982\n",
      "20        19.588647\n",
      "21        13.223183\n",
      "22        12.364787\n",
      "23        21.314736\n",
      "24         7.797347\n",
      "25         5.781900\n",
      "26        20.749348\n",
      "27        11.954767\n",
      "28         9.199109\n",
      "29         8.521787\n",
      "30        12.404313\n",
      "31         9.948652\n",
      "32        21.368803\n",
      "33        12.253748\n",
      "34        18.299435\n",
      "35        20.133474\n",
      "36        14.074646\n",
      "37        20.885947\n",
      "38        11.052150\n",
      "39         4.551687\n"
     ]
    }
   ],
   "source": [
    "x = np.array(data.drop([\"Sales\"], axis=1))\n",
    "y = np.array(data[\"Sales\"])\n",
    "xtrain, xtest, ytrain, ytest = train_test_split(x, y, test_size=0.2, random_state=42)\n",
    "model = LinearRegression()\n",
    "model.fit(xtrain, ytrain)\n",
    "ypred = model.predict(xtest)\n",
    "\n",
    "data = pd.DataFrame(data={\"Predicted Sales\": ypred.flatten()})\n",
    "print(data)"
   ]
  },
  {
   "cell_type": "code",
   "execution_count": null,
   "id": "04562ae0",
   "metadata": {},
   "outputs": [],
   "source": []
  }
 ],
 "metadata": {
  "kernelspec": {
   "display_name": "Python 3 (ipykernel)",
   "language": "python",
   "name": "python3"
  },
  "language_info": {
   "codemirror_mode": {
    "name": "ipython",
    "version": 3
   },
   "file_extension": ".py",
   "mimetype": "text/x-python",
   "name": "python",
   "nbconvert_exporter": "python",
   "pygments_lexer": "ipython3",
   "version": "3.11.5"
  }
 },
 "nbformat": 4,
 "nbformat_minor": 5
}
